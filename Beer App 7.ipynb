{
 "cells": [
  {
   "cell_type": "code",
   "execution_count": 12,
   "metadata": {
    "collapsed": true
   },
   "outputs": [],
   "source": [
    "import pandas as pd\n",
    "import numpy as np\n",
    "import matplotlib.pyplot as plt"
   ]
  },
  {
   "cell_type": "markdown",
   "metadata": {
    "collapsed": true
   },
   "source": [
    "dx = pd.read_csv('Beer',encoding='utf-8')"
   ]
  },
  {
   "cell_type": "markdown",
   "metadata": {},
   "source": [
    "dx = dx.drop('Unnamed: 0',axis=1)"
   ]
  },
  {
   "cell_type": "markdown",
   "metadata": {
    "collapsed": true
   },
   "source": [
    "dx.drop_duplicates(inplace=True)"
   ]
  },
  {
   "cell_type": "markdown",
   "metadata": {
    "collapsed": true
   },
   "source": [
    "dx.loc[(dx.beer.str.contains('\\sIPA\\s',regex=True))&(dx.group != 'IPA/PA'),'group'] = 'IPA/PA'"
   ]
  },
  {
   "cell_type": "markdown",
   "metadata": {
    "collapsed": true,
    "scrolled": true
   },
   "source": [
    "dx.drop_duplicates()\n",
    "ask about inteview process subtly\n",
    "do research and propose things\n",
    "glassdoor"
   ]
  },
  {
   "cell_type": "code",
   "execution_count": 13,
   "metadata": {
    "collapsed": true
   },
   "outputs": [],
   "source": [
    "#dx.to_csv('Beer_Dataset',encoding = 'utf-8',index=False)\n",
    "dx = pd.read_csv('Beer_Dataset',encoding='utf-8')"
   ]
  },
  {
   "cell_type": "code",
   "execution_count": 34,
   "metadata": {},
   "outputs": [],
   "source": [
    "from surprise import SVD\n",
    "from surprise import KNNBaseline as KNNB\n",
    "import surprise\n",
    "from surprise import Dataset\n",
    "from surprise import evaluate\n",
    "from surprise import Reader\n",
    "from surprise import GridSearch"
   ]
  },
  {
   "cell_type": "code",
   "execution_count": 15,
   "metadata": {
    "collapsed": true
   },
   "outputs": [],
   "source": [
    "reader = Reader(rating_scale=(1, 5))\n",
    "jaja = Dataset.load_from_df(dx[['username','beer_id','rating']], reader)\n",
    "#jaja.split()\n",
    "algo = SVD(n_epochs=10, lr_all=.005, reg_all=.3)\n",
    "algo2 = KNNB()"
   ]
  },
  {
   "cell_type": "code",
   "execution_count": 16,
   "metadata": {},
   "outputs": [
    {
     "name": "stdout",
     "output_type": "stream",
     "text": [
      "Evaluating RMSE, MAE of algorithm SVD.\n",
      "\n",
      "------------\n",
      "Fold 1\n",
      "RMSE: 0.3892\n",
      "MAE:  0.2812\n",
      "------------\n",
      "Fold 2\n",
      "RMSE: 0.3907\n",
      "MAE:  0.2818\n",
      "------------\n",
      "Fold 3\n",
      "RMSE: 0.3918\n",
      "MAE:  0.2825\n",
      "------------\n",
      "Fold 4\n",
      "RMSE: 0.3911\n",
      "MAE:  0.2817\n",
      "------------\n",
      "Fold 5\n",
      "RMSE: 0.3903\n",
      "MAE:  0.2814\n",
      "------------\n",
      "------------\n",
      "Mean RMSE: 0.3906\n",
      "Mean MAE : 0.2817\n",
      "------------\n",
      "------------\n"
     ]
    }
   ],
   "source": [
    "perf = evaluate(algo, jaja, measures=['RMSE', 'MAE'])"
   ]
  },
  {
   "cell_type": "code",
   "execution_count": 17,
   "metadata": {},
   "outputs": [
    {
     "data": {
      "text/plain": [
       "3.766000000000001"
      ]
     },
     "execution_count": 17,
     "metadata": {},
     "output_type": "execute_result"
    }
   ],
   "source": [
    "dx[dx.beer=='Mango IPA'].rating.mean()"
   ]
  },
  {
   "cell_type": "code",
   "execution_count": 18,
   "metadata": {
    "scrolled": true
   },
   "outputs": [
    {
     "name": "stdout",
     "output_type": "stream",
     "text": [
      "Evaluating RMSE, MAE of algorithm KNNBaseline.\n",
      "\n",
      "------------\n",
      "Fold 1\n",
      "Estimating biases using als...\n",
      "Computing the msd similarity matrix...\n",
      "Done computing similarity matrix.\n",
      "RMSE: 0.3522\n",
      "MAE:  0.2470\n",
      "------------\n",
      "Fold 2\n",
      "Estimating biases using als...\n",
      "Computing the msd similarity matrix...\n",
      "Done computing similarity matrix.\n",
      "RMSE: 0.3535\n",
      "MAE:  0.2476\n",
      "------------\n",
      "Fold 3\n",
      "Estimating biases using als...\n",
      "Computing the msd similarity matrix...\n",
      "Done computing similarity matrix.\n",
      "RMSE: 0.3542\n",
      "MAE:  0.2480\n",
      "------------\n",
      "Fold 4\n",
      "Estimating biases using als...\n",
      "Computing the msd similarity matrix...\n",
      "Done computing similarity matrix.\n",
      "RMSE: 0.3529\n",
      "MAE:  0.2473\n",
      "------------\n",
      "Fold 5\n",
      "Estimating biases using als...\n",
      "Computing the msd similarity matrix...\n",
      "Done computing similarity matrix.\n",
      "RMSE: 0.3531\n",
      "MAE:  0.2474\n",
      "------------\n",
      "------------\n",
      "Mean RMSE: 0.3532\n",
      "Mean MAE : 0.2475\n",
      "------------\n",
      "------------\n"
     ]
    }
   ],
   "source": [
    "perf = evaluate(algo2, jaja, measures=['RMSE','MAE'])"
   ]
  },
  {
   "cell_type": "code",
   "execution_count": 39,
   "metadata": {},
   "outputs": [
    {
     "ename": "ImportError",
     "evalue": "No module named model_selection",
     "output_type": "error",
     "traceback": [
      "\u001b[1;31m---------------------------------------------------------------------------\u001b[0m",
      "\u001b[1;31mImportError\u001b[0m                               Traceback (most recent call last)",
      "\u001b[1;32m<ipython-input-39-38e16bf1d51d>\u001b[0m in \u001b[0;36m<module>\u001b[1;34m()\u001b[0m\n\u001b[1;32m----> 1\u001b[1;33m \u001b[1;32mfrom\u001b[0m \u001b[0msurprise\u001b[0m\u001b[1;33m.\u001b[0m\u001b[0mmodel_selection\u001b[0m \u001b[1;32mimport\u001b[0m \u001b[0mGridSearchCV\u001b[0m\u001b[1;33m\u001b[0m\u001b[0m\n\u001b[0m",
      "\u001b[1;31mImportError\u001b[0m: No module named model_selection"
     ]
    }
   ],
   "source": [
    "from surprise.model_selection import GridSearchCV"
   ]
  },
  {
   "cell_type": "code",
   "execution_count": null,
   "metadata": {},
   "outputs": [
    {
     "name": "stdout",
     "output_type": "stream",
     "text": [
      "[{'k': 10}, {'k': 20}, {'k': 30}, {'k': 40}, {'k': 50}]\n",
      "------------\n",
      "Parameters combination 1 of 5\n",
      "params:  {'k': 10}\n",
      "Estimating biases using als...\n",
      "Computing the msd similarity matrix...\n",
      "Done computing similarity matrix.\n",
      "Estimating biases using als...\n",
      "Computing the msd similarity matrix...\n",
      "Done computing similarity matrix.\n",
      "Estimating biases using als...\n",
      "Computing the msd similarity matrix...\n",
      "Done computing similarity matrix.\n",
      "Estimating biases using als...\n",
      "Computing the msd similarity matrix...\n",
      "Done computing similarity matrix.\n",
      "Estimating biases using als...\n",
      "Computing the msd similarity matrix...\n",
      "Done computing similarity matrix.\n",
      "------------\n",
      "Mean RMSE: 0.4072\n",
      "Mean MAE : 0.2966\n",
      "------------\n",
      "------------\n",
      "Parameters combination 2 of 5\n",
      "params:  {'k': 20}\n",
      "Estimating biases using als...\n",
      "Computing the msd similarity matrix...\n",
      "Done computing similarity matrix.\n",
      "Estimating biases using als...\n",
      "Computing the msd similarity matrix...\n",
      "Done computing similarity matrix.\n",
      "Estimating biases using als...\n",
      "Computing the msd similarity matrix...\n",
      "Done computing similarity matrix.\n",
      "Estimating biases using als...\n",
      "Computing the msd similarity matrix...\n",
      "Done computing similarity matrix.\n",
      "Estimating biases using als...\n",
      "Computing the msd similarity matrix...\n",
      "Done computing similarity matrix.\n",
      "------------\n",
      "Mean RMSE: 0.4077\n",
      "Mean MAE : 0.2965\n",
      "------------\n",
      "------------\n",
      "Parameters combination 3 of 5\n",
      "params:  {'k': 30}\n",
      "Estimating biases using als...\n",
      "Computing the msd similarity matrix...\n",
      "Done computing similarity matrix.\n",
      "Estimating biases using als...\n",
      "Computing the msd similarity matrix...\n",
      "Done computing similarity matrix.\n"
     ]
    }
   ],
   "source": [
    "params = {'k':[10,20,30,40,50]}\n",
    "Gs = GridSearch(KNNB,params)\n",
    "Gs.evaluate(jaja)"
   ]
  },
  {
   "cell_type": "code",
   "execution_count": null,
   "metadata": {},
   "outputs": [],
   "source": [
    "plt.plot(Gs.cv_results['RMSE'])\n",
    "plt.show()"
   ]
  },
  {
   "cell_type": "code",
   "execution_count": 19,
   "metadata": {},
   "outputs": [
    {
     "data": {
      "text/html": [
       "<div>\n",
       "<style>\n",
       "    .dataframe thead tr:only-child th {\n",
       "        text-align: right;\n",
       "    }\n",
       "\n",
       "    .dataframe thead th {\n",
       "        text-align: left;\n",
       "    }\n",
       "\n",
       "    .dataframe tbody tr th {\n",
       "        vertical-align: top;\n",
       "    }\n",
       "</style>\n",
       "<table border=\"1\" class=\"dataframe\">\n",
       "  <thead>\n",
       "    <tr style=\"text-align: right;\">\n",
       "      <th></th>\n",
       "      <th>beer</th>\n",
       "      <th>brewery</th>\n",
       "      <th>rDev</th>\n",
       "      <th>rating</th>\n",
       "      <th>username</th>\n",
       "      <th>beer_id</th>\n",
       "      <th>type</th>\n",
       "      <th>group</th>\n",
       "    </tr>\n",
       "  </thead>\n",
       "  <tbody>\n",
       "    <tr>\n",
       "      <th>0</th>\n",
       "      <td>BBA Ye Old Battering Ram</td>\n",
       "      <td>MadTree Brewing</td>\n",
       "      <td>2.6</td>\n",
       "      <td>4.30</td>\n",
       "      <td>stonedtrippin</td>\n",
       "      <td>68664</td>\n",
       "      <td>American Barleywine</td>\n",
       "      <td>High ABV</td>\n",
       "    </tr>\n",
       "    <tr>\n",
       "      <th>1</th>\n",
       "      <td>BBA Ye Old Battering Ram</td>\n",
       "      <td>MadTree Brewing</td>\n",
       "      <td>-6.0</td>\n",
       "      <td>3.94</td>\n",
       "      <td>knapp85</td>\n",
       "      <td>68664</td>\n",
       "      <td>American Barleywine</td>\n",
       "      <td>High ABV</td>\n",
       "    </tr>\n",
       "    <tr>\n",
       "      <th>2</th>\n",
       "      <td>BBA Ye Old Battering Ram</td>\n",
       "      <td>MadTree Brewing</td>\n",
       "      <td>6.4</td>\n",
       "      <td>4.46</td>\n",
       "      <td>bluejacket74</td>\n",
       "      <td>68664</td>\n",
       "      <td>American Barleywine</td>\n",
       "      <td>High ABV</td>\n",
       "    </tr>\n",
       "    <tr>\n",
       "      <th>3</th>\n",
       "      <td>BBA Ye Old Battering Ram</td>\n",
       "      <td>MadTree Brewing</td>\n",
       "      <td>3.6</td>\n",
       "      <td>4.34</td>\n",
       "      <td>jzeilinger</td>\n",
       "      <td>68664</td>\n",
       "      <td>American Barleywine</td>\n",
       "      <td>High ABV</td>\n",
       "    </tr>\n",
       "    <tr>\n",
       "      <th>4</th>\n",
       "      <td>BBA Ye Old Battering Ram</td>\n",
       "      <td>MadTree Brewing</td>\n",
       "      <td>-13.4</td>\n",
       "      <td>3.63</td>\n",
       "      <td>somethingclever</td>\n",
       "      <td>68664</td>\n",
       "      <td>American Barleywine</td>\n",
       "      <td>High ABV</td>\n",
       "    </tr>\n",
       "  </tbody>\n",
       "</table>\n",
       "</div>"
      ],
      "text/plain": [
       "                       beer          brewery  rDev  rating         username  \\\n",
       "0  BBA Ye Old Battering Ram  MadTree Brewing   2.6    4.30    stonedtrippin   \n",
       "1  BBA Ye Old Battering Ram  MadTree Brewing  -6.0    3.94          knapp85   \n",
       "2  BBA Ye Old Battering Ram  MadTree Brewing   6.4    4.46     bluejacket74   \n",
       "3  BBA Ye Old Battering Ram  MadTree Brewing   3.6    4.34       jzeilinger   \n",
       "4  BBA Ye Old Battering Ram  MadTree Brewing -13.4    3.63  somethingclever   \n",
       "\n",
       "   beer_id                 type     group  \n",
       "0    68664  American Barleywine  High ABV  \n",
       "1    68664  American Barleywine  High ABV  \n",
       "2    68664  American Barleywine  High ABV  \n",
       "3    68664  American Barleywine  High ABV  \n",
       "4    68664  American Barleywine  High ABV  "
      ]
     },
     "execution_count": 19,
     "metadata": {},
     "output_type": "execute_result"
    }
   ],
   "source": [
    "dx.head()"
   ]
  },
  {
   "cell_type": "code",
   "execution_count": 20,
   "metadata": {},
   "outputs": [
    {
     "data": {
      "text/plain": [
       "array([u'IPA/PA', u'Porter/Stout', u'Fruity/Flavored', u'Dark Ale',\n",
       "       u'Wheat', u'High ABV', u'Pale Lager', u'Dark Lager',\n",
       "       u'Non-Alcoholic'], dtype=object)"
      ]
     },
     "execution_count": 20,
     "metadata": {},
     "output_type": "execute_result"
    }
   ],
   "source": [
    "dx.group.value_counts().index.values"
   ]
  },
  {
   "cell_type": "markdown",
   "metadata": {},
   "source": [
    "1. IPA/PA             172801\n",
    "2. Porter/Stout       103172\n",
    "3. Fruity/Flavored     87286\n",
    "4. Dark Ale            58167\n",
    "5. Wheat               56279\n",
    "6. High ABV            52698\n",
    "7. Pale Lager          36842\n",
    "8. Dark Lager          36123\n",
    "9. Non-Alcoholic        1389"
   ]
  },
  {
   "cell_type": "code",
   "execution_count": 21,
   "metadata": {
    "collapsed": true
   },
   "outputs": [],
   "source": [
    "#score in each position represent group score\n",
    "sample = [1,5,1,5,1,2,2,4,1]"
   ]
  },
  {
   "cell_type": "code",
   "execution_count": 22,
   "metadata": {
    "collapsed": true
   },
   "outputs": [],
   "source": [
    "def Add_User_Preference(pref_vect, df):\n",
    "    data = df.copy()\n",
    "    grouped = data.group.value_counts().index.values\n",
    "    for x in range(len(grouped)-1):\n",
    "        score = data[data.group==grouped[x]].rating\n",
    "        if pref_vect[x] == 1:\n",
    "            data.loc[data.group==grouped[x],'rating'] = score - .5\n",
    "        if pref_vect[x] == 2:\n",
    "            data.loc[data.group==grouped[x],'rating'] = score - .25\n",
    "        if pref_vect[x] == 4:\n",
    "            data.loc[data.group==grouped[x],'rating'] = score + .25\n",
    "        if pref_vect[x] == 5:\n",
    "            data.loc[data.group==grouped[x],'rating'] = score + .5\n",
    "        data.loc[data.rating > 5,'rating'] = 5\n",
    "    return data"
   ]
  },
  {
   "cell_type": "code",
   "execution_count": 23,
   "metadata": {
    "collapsed": true
   },
   "outputs": [],
   "source": [
    "dr = Add_User_Preference(sample,dx)"
   ]
  },
  {
   "cell_type": "code",
   "execution_count": 24,
   "metadata": {},
   "outputs": [
    {
     "name": "stdout",
     "output_type": "stream",
     "text": [
      "3.76182061994 4.25776832224\n"
     ]
    },
    {
     "data": {
      "text/plain": [
       "604757"
      ]
     },
     "execution_count": 24,
     "metadata": {},
     "output_type": "execute_result"
    }
   ],
   "source": [
    "print dx[dx.group=='Dark Ale'].rating.mean(), dr[dr.group=='Dark Ale'].rating.mean()\n",
    "len(dr)"
   ]
  },
  {
   "cell_type": "code",
   "execution_count": 25,
   "metadata": {
    "scrolled": true
   },
   "outputs": [
    {
     "data": {
      "text/plain": [
       "3.3491473258460953"
      ]
     },
     "execution_count": 25,
     "metadata": {},
     "output_type": "execute_result"
    }
   ],
   "source": [
    "#beer_list = dr[dr.brewery.str.contains('SLO Brewing Company')].beer_id.values\n",
    "dr[dr.group=='IPA/PA'].rating.mean()"
   ]
  },
  {
   "cell_type": "code",
   "execution_count": 26,
   "metadata": {},
   "outputs": [],
   "source": [
    "jaja = Dataset.load_from_df(dr[['username','beer_id','rating']], reader)\n",
    "jaja.split()\n",
    "trainset = jaja.build_full_trainset()\n",
    "algo.train(trainset)\n",
    "#testset = trainset.build_testet()\n",
    "#predictions = algo.test(testset)"
   ]
  },
  {
   "cell_type": "code",
   "execution_count": 18,
   "metadata": {
    "collapsed": true
   },
   "outputs": [],
   "source": [
    "def Sort_Beers(user, beer_list):\n",
    "    ok = [[x,algo.predict(user, x)[3]] for x in beer_list]\n",
    "    okee = pd.DataFrame(ok,columns=['beer_id','rating'])\n",
    "    do = okee.groupby('beer_id').mean().sort_values('rating',ascending=False).index\n",
    "    return sorted([[dr[dr.beer_id == x].rating.values[0], dr[dr.beer_id==x].beer.values[0]] for x in do])[-1::-1]"
   ]
  },
  {
   "cell_type": "code",
   "execution_count": 19,
   "metadata": {},
   "outputs": [
    {
     "data": {
      "text/plain": [
       "Prediction(uid='rick', iid=8579, r_ui=None, est=3.7749405906630638, details={u'was_impossible': False})"
      ]
     },
     "execution_count": 19,
     "metadata": {},
     "output_type": "execute_result"
    }
   ],
   "source": [
    "algo.predict('rick',8579)"
   ]
  },
  {
   "cell_type": "code",
   "execution_count": null,
   "metadata": {
    "collapsed": true,
    "scrolled": true
   },
   "outputs": [],
   "source": [
    "dx.replace('SLO Brewing Company','SLO Brew',inplace=True)\n",
    "dx[dx.brewery.str.contains('SLO Brewing Company')]"
   ]
  },
  {
   "cell_type": "code",
   "execution_count": 22,
   "metadata": {
    "collapsed": true
   },
   "outputs": [],
   "source": [
    "trial = dx[dx.brewery.values=='SLO Brewing Company'].beer_id.values\n",
    "reso = Sort_Beers('stonnedtrippin', trial)"
   ]
  },
  {
   "cell_type": "code",
   "execution_count": 25,
   "metadata": {},
   "outputs": [
    {
     "data": {
      "text/plain": [
       "4.0700000000000003"
      ]
     },
     "execution_count": 25,
     "metadata": {},
     "output_type": "execute_result"
    }
   ],
   "source": [
    "reso[0][0]"
   ]
  },
  {
   "cell_type": "code",
   "execution_count": null,
   "metadata": {
    "collapsed": true
   },
   "outputs": [],
   "source": [
    "Words = list(set(dx.brewery.values))\n",
    "import nltk\n",
    "import re"
   ]
  },
  {
   "cell_type": "code",
   "execution_count": null,
   "metadata": {
    "collapsed": true
   },
   "outputs": [],
   "source": [
    "#If you are unsure about whether a word is one word or true, try it as one word.\n",
    "def Super_Lookup(entry):\n",
    "    #remove stopwords\n",
    "    stopwords = [' Brewing', ' Brewery',' Company',' Co.',' Tasting Room',' Pub',' &',' Craft',' Brauerei','Berkeley','Works','Co']\n",
    "    brewers = Words\n",
    "    for r in stopwords:\n",
    "        entry = entry.replace(r,'')\n",
    "        brewers = [x.replace(r,'') for x in brewers]\n",
    "    \n",
    "    #tokenize entry and brewers\n",
    "    entry_len =  len(re.findall(r'\\b\\w+\\b', entry))\n",
    "    brewer_len = {brewers[x]:(len(re.findall(r'\\b\\w+\\b', brewers[x])),x) for x in range(len(brewers))}\n",
    "    poss = [(x, brewer_len[x][1]) for x in brewer_len.keys() if brewer_len[x][0]>=entry_len]\n",
    "    #return closest match with same number of words\n",
    "    f = [[nltk.edit_distance(entry,poss[x][0]),Words[poss[x][1]]] for x in range(len(poss))]\n",
    "    return [sorted(f)[0][1], sorted(f)[1][1], sorted(f)[2][1]]"
   ]
  },
  {
   "cell_type": "code",
   "execution_count": null,
   "metadata": {
    "collapsed": true
   },
   "outputs": [],
   "source": [
    "Super_Lookup('Firestone-Walker')"
   ]
  },
  {
   "cell_type": "code",
   "execution_count": null,
   "metadata": {
    "collapsed": true
   },
   "outputs": [],
   "source": [
    "def Create_Pref():\n",
    "    groups = ['IPAs and Pale Ales','Porters and Stouts','Fruity and Flavored Beers','Dark Ales','Wheat Beers',\n",
    "              'High Alcohol Content','Pale Lager','Dark Lager','Non-Alcoholic']\n",
    "    prefs = []\n",
    "    \n",
    "    print 'Rate the following beers groups according the following scale:'\n",
    "    print '1: Strongly Dislike   2: Somewhat Dislike   3: Neutral   4: Somewhat Like  5: Love'\n",
    "    for x in groups:\n",
    "        prefs.append(int(raw_input(x)))\n",
    "        \n",
    "    return prefs"
   ]
  },
  {
   "cell_type": "code",
   "execution_count": null,
   "metadata": {
    "collapsed": true
   },
   "outputs": [],
   "source": [
    "def Brewery_Rec(brew, prefs, df):\n",
    "    \n",
    "    dk = Add_User_Preference(prefs,df)\n",
    "    \n",
    "    sugs = Super_Lookup(brew)\n",
    "    a = sugs[0]; b = sugs[1] ; c = sugs[2]\n",
    "    res = int(raw_input('If you meant {} answer 0. If you meant {} answer 1. \\n If you meant {} answer 2'.format(a,b,c)))\n",
    "    \n",
    "    if res == 0:\n",
    "        ans = a\n",
    "    elif res == 1:\n",
    "        ans = b\n",
    "    elif res == 2:\n",
    "        ans = c\n",
    "    else:\n",
    "        print 'error'\n",
    "        \n",
    "    place = dx[dx.brewery == ans].beer_id.values\n",
    "    return Sort_Beers('new', place)"
   ]
  },
  {
   "cell_type": "code",
   "execution_count": null,
   "metadata": {
    "collapsed": true
   },
   "outputs": [],
   "source": [
    "samp = Create_Pref()"
   ]
  },
  {
   "cell_type": "code",
   "execution_count": null,
   "metadata": {
    "collapsed": true
   },
   "outputs": [],
   "source": [
    "Brewery_Rec('SLO', samp, dx)"
   ]
  }
 ],
 "metadata": {
  "kernelspec": {
   "display_name": "Python 2",
   "language": "python",
   "name": "python2"
  },
  "language_info": {
   "codemirror_mode": {
    "name": "ipython",
    "version": 2
   },
   "file_extension": ".py",
   "mimetype": "text/x-python",
   "name": "python",
   "nbconvert_exporter": "python",
   "pygments_lexer": "ipython2",
   "version": "2.7.13"
  }
 },
 "nbformat": 4,
 "nbformat_minor": 2
}
