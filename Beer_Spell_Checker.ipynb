{
 "cells": [
  {
   "cell_type": "code",
   "execution_count": 10,
   "metadata": {
    "collapsed": true
   },
   "outputs": [],
   "source": [
    "import pandas as pd\n",
    "import numpy as np\n",
    "import pickle\n",
    "\n",
    "df = pickle.load(open('Beer_Rating_Dataset.pkl','rb'))"
   ]
  },
  {
   "cell_type": "code",
   "execution_count": 11,
   "metadata": {},
   "outputs": [
    {
     "data": {
      "text/html": [
       "<div>\n",
       "<style>\n",
       "    .dataframe thead tr:only-child th {\n",
       "        text-align: right;\n",
       "    }\n",
       "\n",
       "    .dataframe thead th {\n",
       "        text-align: left;\n",
       "    }\n",
       "\n",
       "    .dataframe tbody tr th {\n",
       "        vertical-align: top;\n",
       "    }\n",
       "</style>\n",
       "<table border=\"1\" class=\"dataframe\">\n",
       "  <thead>\n",
       "    <tr style=\"text-align: right;\">\n",
       "      <th></th>\n",
       "      <th>beer</th>\n",
       "      <th>brewery</th>\n",
       "      <th>rDev</th>\n",
       "      <th>rating</th>\n",
       "      <th>username</th>\n",
       "      <th>beer_id</th>\n",
       "    </tr>\n",
       "  </thead>\n",
       "  <tbody>\n",
       "    <tr>\n",
       "      <th>0</th>\n",
       "      <td>Barrel Aged Lucifer's Cuvee</td>\n",
       "      <td>Latitude 42 Brewing Company</td>\n",
       "      <td>-10.4</td>\n",
       "      <td>3.52</td>\n",
       "      <td>stonedtrippin</td>\n",
       "      <td>65265</td>\n",
       "    </tr>\n",
       "    <tr>\n",
       "      <th>1</th>\n",
       "      <td>BBA Ye Old Battering Ram</td>\n",
       "      <td>MadTree Brewing</td>\n",
       "      <td>2.6</td>\n",
       "      <td>4.30</td>\n",
       "      <td>stonedtrippin</td>\n",
       "      <td>68664</td>\n",
       "    </tr>\n",
       "    <tr>\n",
       "      <th>2</th>\n",
       "      <td>Time Crystal</td>\n",
       "      <td>Cerebral Brewing</td>\n",
       "      <td>3.4</td>\n",
       "      <td>4.25</td>\n",
       "      <td>stonedtrippin</td>\n",
       "      <td>29236</td>\n",
       "    </tr>\n",
       "    <tr>\n",
       "      <th>3</th>\n",
       "      <td>Tin Cup</td>\n",
       "      <td>Burial Beer Co.</td>\n",
       "      <td>-4.5</td>\n",
       "      <td>3.81</td>\n",
       "      <td>stonedtrippin</td>\n",
       "      <td>25711</td>\n",
       "    </tr>\n",
       "    <tr>\n",
       "      <th>4</th>\n",
       "      <td>La Folie Grand Reserve: Geisha Sour Ale</td>\n",
       "      <td>New Belgium Brewing</td>\n",
       "      <td>0.0</td>\n",
       "      <td>4.31</td>\n",
       "      <td>stonedtrippin</td>\n",
       "      <td>77009</td>\n",
       "    </tr>\n",
       "  </tbody>\n",
       "</table>\n",
       "</div>"
      ],
      "text/plain": [
       "                                      beer                      brewery  rDev  \\\n",
       "0              Barrel Aged Lucifer's Cuvee  Latitude 42 Brewing Company -10.4   \n",
       "1                 BBA Ye Old Battering Ram              MadTree Brewing   2.6   \n",
       "2                             Time Crystal             Cerebral Brewing   3.4   \n",
       "3                                  Tin Cup              Burial Beer Co.  -4.5   \n",
       "4  La Folie Grand Reserve: Geisha Sour Ale          New Belgium Brewing   0.0   \n",
       "\n",
       "   rating       username  beer_id  \n",
       "0    3.52  stonedtrippin    65265  \n",
       "1    4.30  stonedtrippin    68664  \n",
       "2    4.25  stonedtrippin    29236  \n",
       "3    3.81  stonedtrippin    25711  \n",
       "4    4.31  stonedtrippin    77009  "
      ]
     },
     "execution_count": 11,
     "metadata": {},
     "output_type": "execute_result"
    }
   ],
   "source": [
    "df.head()"
   ]
  },
  {
   "cell_type": "code",
   "execution_count": 12,
   "metadata": {
    "collapsed": true
   },
   "outputs": [],
   "source": [
    "a = set(df.beer.values); b = set(df.brewery.values)\n",
    "WORDS = a|b"
   ]
  },
  {
   "cell_type": "code",
   "execution_count": 13,
   "metadata": {},
   "outputs": [
    {
     "ename": "SyntaxError",
     "evalue": "invalid syntax (<ipython-input-13-0f5e4f3b91a3>, line 30)",
     "output_type": "error",
     "traceback": [
      "\u001b[1;36m  File \u001b[1;32m\"<ipython-input-13-0f5e4f3b91a3>\"\u001b[1;36m, line \u001b[1;32m30\u001b[0m\n\u001b[1;33m    replaces   = [L + c + R[1:]           for L, R in split`bs if R for c in letters]\u001b[0m\n\u001b[1;37m                                                           ^\u001b[0m\n\u001b[1;31mSyntaxError\u001b[0m\u001b[1;31m:\u001b[0m invalid syntax\n"
     ]
    }
   ],
   "source": [
    "import re\n",
    "from collections import Counter\n",
    "\n",
    "def words(text): return re.findall(r'\\w+', text.lower())\n",
    "\n",
    "#WORDS = Counter(words(open('big.txt').read()))\n",
    "\n",
    "#def P(word, N=sum(WORDS.values())): \n",
    "#    \"Probability of `word`.\"\n",
    "#    return WORDS[word] / N\n",
    "\n",
    "def correction(word): \n",
    "    \"Most probable spelling correction for word.\"\n",
    "    return max(candidates(word), key=P)\n",
    "\n",
    "def candidates(word): \n",
    "    \"Generate possible spelling corrections for word.\"\n",
    "    return (known([word]) or known(edits1(word)) or known(edits2(word)) or [word])\n",
    "\n",
    "def known(words): \n",
    "    \"The subset of `words` that appear in the dictionary of WORDS.\"\n",
    "    return set(w for w in words if w in WORDS)\n",
    "\n",
    "def edits1(word):\n",
    "    \"All edits that are one edit away from `word`.\"\n",
    "    letters    = 'abcdefghijklmnopqrstuvwxyz'\n",
    "    splits     = [(word[:i], word[i:])    for i in range(len(word) + 1)]\n",
    "    deletes    = [L + R[1:]               for L, R in splits if R]\n",
    "    transposes = [L + R[1] + R[0] + R[2:] for L, R in splits if len(R)>1]\n",
    "    replaces   = [L + c + R[1:]           for L, R in split`bs if R for c in letters]\n",
    "    inserts    = [L + c + R               for L, R in splits for c in letters]\n",
    "    return set(deletes + transposes + replaces + inserts)\n",
    "\n",
    "def edits2(word): \n",
    "    \"All edits that are two edits away from `word`.\"\n",
    "    return (e2 for e1 in edits1(word) for e2 in edits1(e1))"
   ]
  },
  {
   "cell_type": "code",
   "execution_count": 14,
   "metadata": {
    "collapsed": true
   },
   "outputs": [],
   "source": [
    "import spacy\n",
    "from spacy import displacy\n",
    "nlp = spacy.load('en_core_web_lg')"
   ]
  },
  {
   "cell_type": "code",
   "execution_count": null,
   "metadata": {},
   "outputs": [],
   "source": [
    "df.brewery"
   ]
  },
  {
   "cell_type": "code",
   "execution_count": 15,
   "metadata": {
    "collapsed": true
   },
   "outputs": [],
   "source": [
    "Words = list(set(df.brewery.values))\n",
    "brewers = [x.replace(' Brewing','').replace(' Brewery','').replace(' Company','').replace(' Co.','').replace(' Tasting Room','').replace(' Pub','').replace(' &','') for x in Words]\n",
    "r = [nlp(x) for x in Words if type(x)==unicode]\n",
    "rc = [nlp(x) for x in brewers if type(x)==unicode]"
   ]
  },
  {
   "cell_type": "code",
   "execution_count": null,
   "metadata": {
    "collapsed": true
   },
   "outputs": [],
   "source": [
    "def Brewery_Lookup(entry):\n",
    "    enter = nlp(entry)\n",
    "    simil = []\n",
    "    for k in rc:\n",
    "        f = enter.similarity(k)\n",
    "        simil.append(f)\n",
    "    ind = np.argsort(simil)[-1::-1]\n",
    "    if (simil[0] != simil[1]):\n",
    "        return r[ind[0]]\n",
    "    else:\n",
    "        return LookUp(entry)"
   ]
  },
  {
   "cell_type": "code",
   "execution_count": null,
   "metadata": {
    "scrolled": true
   },
   "outputs": [],
   "source": [
    "Wurds = list(set(df.beer.values))\n",
    "q = [nlp(x) for x in Wurds if type(x)==unicode]"
   ]
  },
  {
   "cell_type": "code",
   "execution_count": null,
   "metadata": {
    "collapsed": true
   },
   "outputs": [],
   "source": [
    "def Beer_Lookup(entry):\n",
    "    enter = nlp(entry)\n",
    "    simil = []\n",
    "    for k in q:\n",
    "        f = enter.similarity(k)\n",
    "        simil.append(f)\n",
    "    ind = np.argsort(simil)[-1::-1]\n",
    "    if (simil[0] != simil[1]):\n",
    "        print r[ind[0]]\n",
    "    else:\n",
    "        print 'error'"
   ]
  },
  {
   "cell_type": "code",
   "execution_count": null,
   "metadata": {
    "collapsed": true
   },
   "outputs": [],
   "source": [
    "Brewery_Lookup(u'Balast')"
   ]
  },
  {
   "cell_type": "code",
   "execution_count": null,
   "metadata": {},
   "outputs": [],
   "source": [
    "import nltk\n",
    "nltk.edit_distance(u\"Tröegs\", u\"Trogs\")"
   ]
  },
  {
   "cell_type": "code",
   "execution_count": null,
   "metadata": {},
   "outputs": [],
   "source": [
    "p = u'Ballast Brewing'\n",
    "p.replace(' Brewing','')"
   ]
  },
  {
   "cell_type": "code",
   "execution_count": null,
   "metadata": {
    "collapsed": true
   },
   "outputs": [],
   "source": [
    "# clean up code with extra list comprehension\n",
    "def LookUp_Brewery(entry):\n",
    "    brewers = [x.replace(' Brewing','').replace(' Brewery','').replace(' Company','').replace(' Co.','').replace(' Tasting Room','').replace(' Pub','').replace(' &','').replace(' Craft','').replace(' Brauerei','').replace('Berkeley','') for x in Words]\n",
    "    entered = entry.replace(' Brewing','').replace(' Brewery','').replace(' Company','').replace(' Co.','').replace(' Tasting Room','').replace(' Pub','').replace(' &','').replace(' Craft','').replace(' Brauerei','').replace('Berkeley','')\n",
    "    f = [[nltk.edit_distance(entered,brewers[x]),Words[x]] for x in range(len(brewers)) if entered[0]==brewers[x][0]]\n",
    "    return [sorted(f)[0][1], sorted(f)[1][1], sorted(f)[2][1]]"
   ]
  },
  {
   "cell_type": "code",
   "execution_count": null,
   "metadata": {},
   "outputs": [],
   "source": [
    "#token words, split on spaces, find search based on each word and created composite score for phrase\n",
    "LookUp_Brewery(u'Coors')"
   ]
  },
  {
   "cell_type": "code",
   "execution_count": null,
   "metadata": {
    "collapsed": true
   },
   "outputs": [],
   "source": [
    "dog = ' sentence about a dog Brewery Brewing Pub'\n",
    "import re\n",
    "m = re.findall(r'\\b\\w+\\b',' sentence about a dog')\n",
    "m"
   ]
  },
  {
   "cell_type": "code",
   "execution_count": null,
   "metadata": {
    "collapsed": true
   },
   "outputs": [],
   "source": [
    "def Super_Lookup(entry):\n",
    "    #remove stopwords\n",
    "    stopwords = [' Brewing', ' Brewery',' Company',' Co.',' Tasting Room',' Pub',' &',' Craft',' Brauerei','Berkeley','Works','Co']\n",
    "    brewers = Words\n",
    "    for r in stopwords:\n",
    "        entry = entry.replace(r,'')\n",
    "        brewers = [x.replace(r,'') for x in brewers]\n",
    "    \n",
    "    #tokenize entry and brewers\n",
    "    entry_len =  len(re.findall(r'\\b\\w+\\b', entry))\n",
    "    brewer_len = {brewers[x]:(len(re.findall(r'\\b\\w+\\b', brewers[x])),x) for x in range(len(brewers))}\n",
    "    poss = [(x, brewer_len[x][1]) for x in brewer_len.keys() if brewer_len[x][0]>=entry_len]\n",
    "    #return closest match with same number of words\n",
    "    f = [[nltk.edit_distance(entry,poss[x][0]),Words[poss[x][1]]] for x in range(len(poss))]\n",
    "    return [sorted(f)[0][1], sorted(f)[1][1], sorted(f)[2][1]]"
   ]
  },
  {
   "cell_type": "code",
   "execution_count": null,
   "metadata": {
    "collapsed": true
   },
   "outputs": [],
   "source": [
    "Super_Lookup('BarrelHouse')"
   ]
  },
  {
   "cell_type": "code",
   "execution_count": null,
   "metadata": {
    "collapsed": true
   },
   "outputs": [],
   "source": [
    "b = {'a':(1,2),'b':'4'}\n",
    "b['a'][1]"
   ]
  },
  {
   "cell_type": "code",
   "execution_count": null,
   "metadata": {
    "collapsed": true
   },
   "outputs": [],
   "source": [
    "from whoosh.fields import Schema, TEXT, KEYWORD, ID, STORED\n",
    "from whoosh.analysis import StemmingAnalyzer\n",
    "\n",
    "schema = Schema(beer_id=ID(stored=True),\n",
    "                beer=TEXT(stored=True),\n",
    "                \n",
    "                body=TEXT(analyzer=StemmingAnalyzer()),\n",
    "                tags=KEYWORD)"
   ]
  },
  {
   "cell_type": "code",
   "execution_count": null,
   "metadata": {
    "collapsed": true
   },
   "outputs": [],
   "source": [
    "from whoosh.fields import Schema, TEXT, KEYWORD, ID, STORED\n",
    "from whoosh.analysis import StemmingAnalyzer\n",
    "\n",
    "schema = Schema(from_addr=ID(stored=True),\n",
    "                to_addr=ID(stored=True),\n",
    "                subject=TEXT(stored=True),\n",
    "                body=TEXT(analyzer=StemmingAnalyzer()),\n",
    "                tags=KEYWORD)"
   ]
  }
 ],
 "metadata": {
  "kernelspec": {
   "display_name": "Python 2",
   "language": "python",
   "name": "python2"
  },
  "language_info": {
   "codemirror_mode": {
    "name": "ipython",
    "version": 2
   },
   "file_extension": ".py",
   "mimetype": "text/x-python",
   "name": "python",
   "nbconvert_exporter": "python",
   "pygments_lexer": "ipython2",
   "version": "2.7.14"
  }
 },
 "nbformat": 4,
 "nbformat_minor": 2
}
